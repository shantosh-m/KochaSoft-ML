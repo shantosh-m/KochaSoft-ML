{
 "cells": [
  {
   "cell_type": "code",
   "execution_count": 52,
   "id": "dba06ad5-daad-4024-85ee-8b4a415f7419",
   "metadata": {},
   "outputs": [],
   "source": [
    "import pandas as pd\n",
    "\n",
    "# Load JSON data\n",
    "df = pd.read_json('KitTickets.json')\n",
    "# drop unwanted features\n",
    "df.drop(['Id', 'RefTicketId', 'TicketId', 'TicketMapId', 'id', 'Attachments', 'ChangesHistory', 'Comments', '_rid', '_self', '_etag', '_attachments', 'ModifiedDateUtc', 'IsActive', 'IsDeleted', '_ts'], axis=1, inplace=True)\n"
   ]
  },
  {
   "cell_type": "code",
   "execution_count": 53,
   "id": "22c6d14e",
   "metadata": {},
   "outputs": [
    {
     "name": "stdout",
     "output_type": "stream",
     "text": [
      "Index(['sys_id', 'number', 'u_business_caller', 'short_description',\n",
      "       'description', 'priority', 'state', 'incident_state', 'u_description',\n",
      "       'start_date', 'end_date', 'justification', 'implementation_plan',\n",
      "       'backout_plan', 'risk', 'type', 'u_manager_approval', 'u_cab_approve',\n",
      "       'key', 'id', 'status', 'reported'],\n",
      "      dtype='object')\n"
     ]
    }
   ],
   "source": [
    "# Pull-out the features from TicketJson\n",
    "Ticket_object = df['TicketJson']\n",
    "\n",
    "df2 = pd.DataFrame(Ticket_object.tolist())  # Convert the Series of dictionaries to a DataFrame\n",
    "print(df2.columns) "
   ]
  },
  {
   "cell_type": "code",
   "execution_count": 54,
   "id": "82bc827a",
   "metadata": {},
   "outputs": [],
   "source": [
    "# Include the pulled features to the dataframe\n",
    "df['short_description'] = df2['short_description']\n",
    "df['priority'] = df2['priority']\n"
   ]
  },
  {
   "cell_type": "code",
   "execution_count": 55,
   "id": "b1e950c5",
   "metadata": {},
   "outputs": [],
   "source": [
    "df.drop(['TicketJson'], axis='columns', inplace=True)"
   ]
  },
  {
   "cell_type": "code",
   "execution_count": 56,
   "id": "0c984265-d229-4f36-9095-77f68516e7cc",
   "metadata": {},
   "outputs": [
    {
     "name": "stdout",
     "output_type": "stream",
     "text": [
      "['2024-04-16' '2024-04-18' '2024-04-23' '2024-04-24' '2024-05-01'\n",
      " '2024-05-02' '2024-05-03' '2024-05-06' '2024-05-07' '2024-05-08'\n",
      " '2024-05-13' '2024-05-14' '2024-05-15' '2024-05-16' '2024-05-20'\n",
      " '2024-05-31' '2024-06-03' '2024-06-04' '2024-06-05' '2024-06-06'\n",
      " '2024-06-10' '2024-06-11' '2024-06-12' '2024-06-13' '2024-06-20'\n",
      " '2024-06-25' '2024-06-27' '2024-07-03' '2024-07-11' '2024-07-12'\n",
      " '2024-07-16' '2024-07-17' '2024-07-22' '2024-07-23' '2024-07-24'\n",
      " '2024-07-25' '2024-07-31' '2024-08-01' '2024-08-12' '2024-08-13'\n",
      " '2024-08-14' '2024-08-15' '2024-08-20' '2024-08-26' '2024-08-28'\n",
      " '2024-08-30' '2024-08-31' '2024-09-02' '2024-09-10']\n",
      "['3' '2']\n"
     ]
    }
   ],
   "source": [
    "# Extract the date from the 'CreatedDateUtc' feature\n",
    "df['CreatedDateUtc_Short'] = df['CreatedDateUtc'].str[:10]\n",
    "print(df['CreatedDateUtc_Short'].unique())\n",
    "print(df['priority'].unique())"
   ]
  },
  {
   "cell_type": "code",
   "execution_count": 57,
   "id": "4f1df5d2-d92d-487e-8158-92eeaaa9753d",
   "metadata": {},
   "outputs": [
    {
     "name": "stdout",
     "output_type": "stream",
     "text": [
      "['Tuesday' 'Thursday' 'Wednesday' 'Friday' 'Monday' 'Saturday']\n",
      "DayOfWeek\n",
      "Tuesday      102\n",
      "Wednesday     34\n",
      "Thursday      32\n",
      "Monday        30\n",
      "Friday        10\n",
      "Saturday       2\n",
      "Name: count, dtype: int64\n"
     ]
    }
   ],
   "source": [
    "# convert CreatedDateUtc to datetime format\n",
    "df['CreatedDateUtc_'] = pd.to_datetime(df['CreatedDateUtc'])\n",
    "# Extract the day of week\n",
    "df['DayOfWeek'] = df['CreatedDateUtc_'].dt.day_name()\n",
    "\n",
    "print(df['DayOfWeek'].unique())\n",
    "print(df['DayOfWeek'].value_counts())\n",
    "\n"
   ]
  },
  {
   "cell_type": "code",
   "execution_count": 58,
   "id": "f000b15c-c13f-45f3-a232-e5313f851d72",
   "metadata": {},
   "outputs": [
    {
     "data": {
      "text/html": [
       "<div>\n",
       "<style scoped>\n",
       "    .dataframe tbody tr th:only-of-type {\n",
       "        vertical-align: middle;\n",
       "    }\n",
       "\n",
       "    .dataframe tbody tr th {\n",
       "        vertical-align: top;\n",
       "    }\n",
       "\n",
       "    .dataframe thead th {\n",
       "        text-align: right;\n",
       "    }\n",
       "</style>\n",
       "<table border=\"1\" class=\"dataframe\">\n",
       "  <thead>\n",
       "    <tr style=\"text-align: right;\">\n",
       "      <th></th>\n",
       "      <th>short_description</th>\n",
       "      <th>priority</th>\n",
       "      <th>CreatedDateUtc_Short</th>\n",
       "      <th>CreatedDateUtc_</th>\n",
       "      <th>DayOfWeek_Friday</th>\n",
       "      <th>DayOfWeek_Monday</th>\n",
       "      <th>DayOfWeek_Saturday</th>\n",
       "      <th>DayOfWeek_Thursday</th>\n",
       "      <th>DayOfWeek_Tuesday</th>\n",
       "      <th>DayOfWeek_Wednesday</th>\n",
       "    </tr>\n",
       "  </thead>\n",
       "  <tbody>\n",
       "    <tr>\n",
       "      <th>0</th>\n",
       "      <td>avscmawapp04 alerting in Solarwinds</td>\n",
       "      <td>3</td>\n",
       "      <td>2024-04-16</td>\n",
       "      <td>2024-04-16 07:39:05.380584100+00:00</td>\n",
       "      <td>False</td>\n",
       "      <td>False</td>\n",
       "      <td>False</td>\n",
       "      <td>False</td>\n",
       "      <td>True</td>\n",
       "      <td>False</td>\n",
       "    </tr>\n",
       "    <tr>\n",
       "      <th>1</th>\n",
       "      <td>SAP - Azure Monitoring Agent reinstall for Pro...</td>\n",
       "      <td>3</td>\n",
       "      <td>2024-04-16</td>\n",
       "      <td>2024-04-16 07:39:05.416672+00:00</td>\n",
       "      <td>False</td>\n",
       "      <td>False</td>\n",
       "      <td>False</td>\n",
       "      <td>False</td>\n",
       "      <td>True</td>\n",
       "      <td>False</td>\n",
       "    </tr>\n",
       "    <tr>\n",
       "      <th>2</th>\n",
       "      <td>NaN</td>\n",
       "      <td>3</td>\n",
       "      <td>2024-04-16</td>\n",
       "      <td>2024-04-16 07:39:07.774185+00:00</td>\n",
       "      <td>False</td>\n",
       "      <td>False</td>\n",
       "      <td>False</td>\n",
       "      <td>False</td>\n",
       "      <td>True</td>\n",
       "      <td>False</td>\n",
       "    </tr>\n",
       "    <tr>\n",
       "      <th>3</th>\n",
       "      <td>NaN</td>\n",
       "      <td>3</td>\n",
       "      <td>2024-04-16</td>\n",
       "      <td>2024-04-16 07:39:07.834434200+00:00</td>\n",
       "      <td>False</td>\n",
       "      <td>False</td>\n",
       "      <td>False</td>\n",
       "      <td>False</td>\n",
       "      <td>True</td>\n",
       "      <td>False</td>\n",
       "    </tr>\n",
       "    <tr>\n",
       "      <th>4</th>\n",
       "      <td>eu2qasltes21 node down in Solarwinds</td>\n",
       "      <td>3</td>\n",
       "      <td>2024-04-16</td>\n",
       "      <td>2024-04-16 07:39:09.791338400+00:00</td>\n",
       "      <td>False</td>\n",
       "      <td>False</td>\n",
       "      <td>False</td>\n",
       "      <td>False</td>\n",
       "      <td>True</td>\n",
       "      <td>False</td>\n",
       "    </tr>\n",
       "  </tbody>\n",
       "</table>\n",
       "</div>"
      ],
      "text/plain": [
       "                                   short_description priority  \\\n",
       "0                avscmawapp04 alerting in Solarwinds        3   \n",
       "1  SAP - Azure Monitoring Agent reinstall for Pro...        3   \n",
       "2                                                NaN        3   \n",
       "3                                                NaN        3   \n",
       "4               eu2qasltes21 node down in Solarwinds        3   \n",
       "\n",
       "  CreatedDateUtc_Short                     CreatedDateUtc_  DayOfWeek_Friday  \\\n",
       "0           2024-04-16 2024-04-16 07:39:05.380584100+00:00             False   \n",
       "1           2024-04-16    2024-04-16 07:39:05.416672+00:00             False   \n",
       "2           2024-04-16    2024-04-16 07:39:07.774185+00:00             False   \n",
       "3           2024-04-16 2024-04-16 07:39:07.834434200+00:00             False   \n",
       "4           2024-04-16 2024-04-16 07:39:09.791338400+00:00             False   \n",
       "\n",
       "   DayOfWeek_Monday  DayOfWeek_Saturday  DayOfWeek_Thursday  \\\n",
       "0             False               False               False   \n",
       "1             False               False               False   \n",
       "2             False               False               False   \n",
       "3             False               False               False   \n",
       "4             False               False               False   \n",
       "\n",
       "   DayOfWeek_Tuesday  DayOfWeek_Wednesday  \n",
       "0               True                False  \n",
       "1               True                False  \n",
       "2               True                False  \n",
       "3               True                False  \n",
       "4               True                False  "
      ]
     },
     "execution_count": 58,
     "metadata": {},
     "output_type": "execute_result"
    }
   ],
   "source": [
    "# One hot encoding the days\n",
    "df_encoded = pd.get_dummies(df, columns=['DayOfWeek'])\n",
    "\n",
    "df_encoded.drop('CreatedDateUtc', axis='columns', inplace=True)\n",
    "df_encoded.head()"
   ]
  },
  {
   "cell_type": "code",
   "execution_count": 59,
   "id": "c793d3d9",
   "metadata": {},
   "outputs": [],
   "source": [
    "#Only needed features extracted\n",
    "df.to_csv(\"Extracted Features.csv\", index=False)"
   ]
  },
  {
   "cell_type": "code",
   "execution_count": null,
   "id": "e26f3dec-beb4-4c57-96cb-f19dd014c71f",
   "metadata": {},
   "outputs": [],
   "source": []
  }
 ],
 "metadata": {
  "kernelspec": {
   "display_name": "Python 3 (ipykernel)",
   "language": "python",
   "name": "python3"
  },
  "language_info": {
   "codemirror_mode": {
    "name": "ipython",
    "version": 3
   },
   "file_extension": ".py",
   "mimetype": "text/x-python",
   "name": "python",
   "nbconvert_exporter": "python",
   "pygments_lexer": "ipython3",
   "version": "3.11.5"
  }
 },
 "nbformat": 4,
 "nbformat_minor": 5
}
