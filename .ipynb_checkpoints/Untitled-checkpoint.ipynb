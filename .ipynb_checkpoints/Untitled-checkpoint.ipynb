{
 "cells": [
  {
   "cell_type": "code",
   "execution_count": 15,
   "id": "dba06ad5-daad-4024-85ee-8b4a415f7419",
   "metadata": {},
   "outputs": [
    {
     "data": {
      "text/plain": [
       "0     {'sys_id': '112ae87697345910a13df1500153af5d',...\n",
       "1     {'sys_id': 'e651a2b81b250e10c71586afdc4bcbd9',...\n",
       "2     {'key': 'KSM-5083', 'id': '30399', 'status': '...\n",
       "3     {'key': 'KSM-5084', 'id': '30398', 'status': '...\n",
       "4     {'sys_id': '14aed0741b7ae110acfa42a6bc4bcb3b',...\n",
       "5     {'sys_id': '524bba021b214250c71586afdc4bcb42',...\n",
       "6     {'key': 'KSM-5085', 'id': '30400', 'status': '...\n",
       "7     {'key': 'KSM-5086', 'id': '30401', 'status': '...\n",
       "8     {'sys_id': '3030919f1be8e510c71586afdc4bcb4a',...\n",
       "9     {'sys_id': 'cfdcfac21b214250c71586afdc4bcbca',...\n",
       "10    {'sys_id': '3ccc5d2b1b806d10c71586afdc4bcbb6',...\n",
       "11    {'key': 'KSM-5089', 'id': '30404', 'status': '...\n",
       "12    {'sys_id': '3f087ac21b90e550c71586afdc4bcbd9',...\n",
       "13    {'key': 'KSM-5090', 'id': '30405', 'status': '...\n",
       "14    {'sys_id': '479b7a399709e950a13df1500153afdd',...\n",
       "15    {'key': 'KSM-5091', 'id': '30406', 'status': '...\n",
       "16    {'sys_id': '58a5f22b1b659150acfa42a6bc4bcba1',...\n",
       "17    {'key': 'KSM-5092', 'id': '30407', 'status': '...\n",
       "18    {'sys_id': '6e184a8e1b2aa550fa7c2172604bcb80',...\n",
       "19    {'key': 'KSM-5093', 'id': '30408', 'status': '...\n",
       "Name: TicketJson, dtype: object"
      ]
     },
     "execution_count": 15,
     "metadata": {},
     "output_type": "execute_result"
    }
   ],
   "source": [
    "import pandas as pd\n",
    "\n",
    "# Load JSON data\n",
    "df = pd.read_json('KitTickets.json')\n",
    "\n",
    "df.drop(['Id', 'RefTicketId', 'TicketId', 'TicketMapId', 'id', 'Attachments', 'ChangesHistory', 'Comments', '_rid', '_self', '_etag', '_attachments', 'ModifiedDateUtc', 'IsActive', 'IsDeleted'], axis=1, inplace=True)\n",
    "\n",
    "df.head(10)\n",
    "\n",
    "df['TicketJson'].head(20)"
   ]
  },
  {
   "cell_type": "code",
   "execution_count": null,
   "id": "049dddb0-2fbb-44f5-aa01-839cb4601e17",
   "metadata": {},
   "outputs": [],
   "source": []
  }
 ],
 "metadata": {
  "kernelspec": {
   "display_name": "Python 3 (ipykernel)",
   "language": "python",
   "name": "python3"
  },
  "language_info": {
   "codemirror_mode": {
    "name": "ipython",
    "version": 3
   },
   "file_extension": ".py",
   "mimetype": "text/x-python",
   "name": "python",
   "nbconvert_exporter": "python",
   "pygments_lexer": "ipython3",
   "version": "3.11.5"
  }
 },
 "nbformat": 4,
 "nbformat_minor": 5
}
